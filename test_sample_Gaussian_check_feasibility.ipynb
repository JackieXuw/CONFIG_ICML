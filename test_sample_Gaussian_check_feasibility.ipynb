{
 "cells": [
  {
   "cell_type": "code",
   "execution_count": null,
   "id": "6e817f5d",
   "metadata": {},
   "outputs": [],
   "source": [
    "%load_ext autoreload\n",
    "%autoreload 2\n",
    "import numpy as np\n",
    "import matplotlib.pyplot as plt\n",
    "optimization_config = {\n",
    "    'eval_budget': 50\n",
    "}\n",
    "import os\n",
    "os.environ['KMP_DUPLICATE_LIB_OK']='True'\n",
    "os.environ[\"CUDA_VISIBLE_DEVICES\"] = \"0\"\n",
    "\n",
    "# plt.rcParams.update({\n",
    "#     \"text.usetex\": True,\n",
    "#     \"font.family\": \"sans-serif\",\n",
    "#     \"font.sans-serif\": [\"Helvetica\"]})\n",
    "# for Palatino and other serif fonts use:\n",
    "plt.rcParams.update({\n",
    "    \"text.usetex\": True,\n",
    "    \"font.family\": \"serif\",\n",
    "    \"font.serif\": [\"Palatino\"],\n",
    "})\n",
    "\n",
    "#COLORS = ['green','red', 'yellow', 'orange', 'blue', 'black']\n",
    "#COLORS = [(0.0, 0.63, 0.53),(0.90,0.29,0.21), (0.87, 0.56, 0.27), (0.30, 0.73, 0.84), (0.39, 0.09, 0.47), (0.22, 0.31, 0.33)]\n",
    "#COLORS = ['#008280FF', '#BB0021FF', '#808180FF', '#3B4992FF', '#631879FF', '#5F559BFF']\n",
    "#HATCHES = ['', '', '', '','','']\n",
    "from matplotlib import rcParams\n",
    "#rcParams['font.family'] = 'serif'\n",
    "#rcParams['font.serif'] = ['Times']\n",
    "# LABELSIZE= 8 #8.97 * 0.67 #8 #5 #8.97*0.67\n",
    "# WIDTH  = 8.43/2.54*0.9  # in inch\n",
    "# HEIGHT = WIDTH / 1.618\n",
    "# LINEWIDTH = 1.0 \n",
    "from fig_hp import *\n",
    "import matplotlib as mpl\n",
    "mpl.use('pdf')\n",
    "FONTDICT={'fontsize':LABELSIZE}\n",
    "\n",
    "params = {\n",
    "   'axes.labelsize': LABELSIZE,\n",
    "   #'text.fontsize': LABELSIZE,\n",
    "   'legend.fontsize': LABELSIZE,\n",
    "   'xtick.labelsize': LABELSIZE,\n",
    "   'ytick.labelsize': LABELSIZE,\n",
    "   'text.usetex': False,\n",
    "    'hatch.linewidth': 0.5,\n",
    "   'figure.figsize': [WIDTH, HEIGHT]\n",
    "   }\n",
    "rcParams.update(params)\n",
    "from IPython.core.display import display, HTML\n",
    "display(HTML(\"<style>.container { width:100% !important; }</style>\"))\n",
    "#jtplot.style()\n",
    "from datetime import datetime\n",
    "\n",
    "%load_ext autoreload\n",
    "%autoreload 2"
   ]
  },
  {
   "cell_type": "code",
   "execution_count": null,
   "id": "d1aa6647",
   "metadata": {},
   "outputs": [],
   "source": [
    "data = np.load('test_GP_sample_result_check_feasibility.npz', allow_pickle=True)"
   ]
  },
  {
   "cell_type": "code",
   "execution_count": null,
   "id": "a44c769a",
   "metadata": {},
   "outputs": [],
   "source": [
    "def fix_first_ele(regret_list):\n",
    "    num_traj, num_steps = regret_list.shape\n",
    "    for k in range(num_traj):\n",
    "        regret_list[k, 0] = np.array([[regret_list[k,0]]])\n",
    "    return regret_list\n",
    "\n",
    "lcb2_regret_lists = fix_first_ele(data['arr_0'])\n",
    "lcb2_constrs_lists = data['arr_1']\n",
    "lcb2_feasibility_lists = data['arr_2']\n",
    "\n"
   ]
  },
  {
   "cell_type": "code",
   "execution_count": null,
   "id": "f3392814",
   "metadata": {},
   "outputs": [],
   "source": [
    "lcb2_feasibility_lists.shape"
   ]
  },
  {
   "cell_type": "code",
   "execution_count": null,
   "id": "5bd753d3",
   "metadata": {},
   "outputs": [],
   "source": [
    "find_feasible = [np.sum(lcb2_feasibility_lists[k,:]) for k in range(50)]"
   ]
  },
  {
   "cell_type": "code",
   "execution_count": null,
   "id": "5f9abc1e",
   "metadata": {},
   "outputs": [],
   "source": [
    "np.sum(find_feasible)/50"
   ]
  }
 ],
 "metadata": {
  "kernelspec": {
   "display_name": "Python 3",
   "language": "python",
   "name": "python3"
  },
  "language_info": {
   "codemirror_mode": {
    "name": "ipython",
    "version": 3
   },
   "file_extension": ".py",
   "mimetype": "text/x-python",
   "name": "python",
   "nbconvert_exporter": "python",
   "pygments_lexer": "ipython3",
   "version": "3.8.5"
  }
 },
 "nbformat": 4,
 "nbformat_minor": 5
}
