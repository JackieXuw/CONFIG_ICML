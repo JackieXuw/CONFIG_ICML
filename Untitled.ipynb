{
 "cells": [
  {
   "cell_type": "code",
   "execution_count": 10,
   "id": "3c5865f6",
   "metadata": {},
   "outputs": [],
   "source": [
    "import GPy\n",
    "import numpy as np"
   ]
  },
  {
   "cell_type": "code",
   "execution_count": 11,
   "id": "9fa6666f",
   "metadata": {},
   "outputs": [],
   "source": [
    "kern1 =  GPy.kern.RBF(input_dim=2, variance=2., active_dims=[0,1], lengthscale=1.0, ARD=True)\n",
    "kern2 = GPy.kern.RBF(input_dim=1, variance=2., active_dims=[2], lengthscale=1.0)\n",
    "mult_kern = kern1*kern2"
   ]
  },
  {
   "cell_type": "code",
   "execution_count": 19,
   "id": "b97b8b6e",
   "metadata": {},
   "outputs": [
    {
     "name": "stdout",
     "output_type": "stream",
     "text": [
      "[[1.98009967]]\n",
      "[[1.96039735]]\n",
      "[[3.88178213]]\n",
      "[[3.88178213]]\n"
     ]
    }
   ],
   "source": [
    "X1 = np.array([[0.2, 1, 3]])\n",
    "X2 = np.array([[0.3, 0.9, 2.8]])\n",
    "print(kern1.K(X1, X2))\n",
    "print(kern2.K(X1, X2))\n",
    "print(kern1.K(X1, X2) * kern2.K(X1, X2))\n",
    "print(mult_kern.K(X1, X2))"
   ]
  },
  {
   "cell_type": "code",
   "execution_count": null,
   "id": "d6936672",
   "metadata": {},
   "outputs": [],
   "source": []
  }
 ],
 "metadata": {
  "kernelspec": {
   "display_name": "Python 3",
   "language": "python",
   "name": "python3"
  },
  "language_info": {
   "codemirror_mode": {
    "name": "ipython",
    "version": 3
   },
   "file_extension": ".py",
   "mimetype": "text/x-python",
   "name": "python",
   "nbconvert_exporter": "python",
   "pygments_lexer": "ipython3",
   "version": "3.8.5"
  }
 },
 "nbformat": 4,
 "nbformat_minor": 5
}
